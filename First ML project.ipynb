{
 "cells": [
  {
   "cell_type": "markdown",
   "metadata": {},
   "source": [
    "# Рекомендация тарифов"
   ]
  },
  {
   "cell_type": "markdown",
   "metadata": {},
   "source": [
    "В данной работе было необходимо построить модель для задачи классификации, которая выберет подходящий тариф для клиента. В распоряжении были данные о поведении клиентов. \n",
    "Условие для выполнения работы: *accuracy* на тестовой выборке должна быть не меньше 0.75.\n",
    "\n",
    "\n",
    "Ход работы:\n",
    "* Откроем файл с данными и изучим его.\n",
    "* Разделим исходные данные на обучающую, валидационную и тестовую выборки.\n",
    "* Исследуем качество разных моделей, меняя гиперпараметры. Кратко напишем выводы исследования.\n",
    "* Проверим качество модели на тестовой выборке.\n",
    "* Дополнительное задание: проверить модели на вменяемость. Ничего страшного, если не получится: эти данные сложнее тех, с которыми вы работали раньше. В следующем курсе подробнее об этом расскажем."
   ]
  },
  {
   "cell_type": "markdown",
   "metadata": {},
   "source": [
    "## Откройте и изучите файл"
   ]
  },
  {
   "cell_type": "markdown",
   "metadata": {},
   "source": [
    "Импортируем библиотеки"
   ]
  },
  {
   "cell_type": "code",
   "execution_count": 1,
   "metadata": {},
   "outputs": [],
   "source": [
    "import pandas as pd\n",
    "from sklearn.model_selection import train_test_split\n",
    "from sklearn.tree import DecisionTreeClassifier\n",
    "from sklearn.ensemble import RandomForestClassifier\n",
    "from sklearn.linear_model import LogisticRegression \n",
    "from sklearn.metrics import accuracy_score \n",
    "from sklearn.dummy import DummyClassifier"
   ]
  },
  {
   "cell_type": "markdown",
   "metadata": {},
   "source": [
    "Прочитаем файл с данными"
   ]
  },
  {
   "cell_type": "code",
   "execution_count": 2,
   "metadata": {},
   "outputs": [],
   "source": [
    "df = pd.read_csv('/datasets/users_behavior.csv')"
   ]
  },
  {
   "cell_type": "markdown",
   "metadata": {},
   "source": [
    "Посмотрим на наши данные:"
   ]
  },
  {
   "cell_type": "code",
   "execution_count": 3,
   "metadata": {},
   "outputs": [
    {
     "data": {
      "text/html": [
       "<div>\n",
       "<style scoped>\n",
       "    .dataframe tbody tr th:only-of-type {\n",
       "        vertical-align: middle;\n",
       "    }\n",
       "\n",
       "    .dataframe tbody tr th {\n",
       "        vertical-align: top;\n",
       "    }\n",
       "\n",
       "    .dataframe thead th {\n",
       "        text-align: right;\n",
       "    }\n",
       "</style>\n",
       "<table border=\"1\" class=\"dataframe\">\n",
       "  <thead>\n",
       "    <tr style=\"text-align: right;\">\n",
       "      <th></th>\n",
       "      <th>calls</th>\n",
       "      <th>minutes</th>\n",
       "      <th>messages</th>\n",
       "      <th>mb_used</th>\n",
       "      <th>is_ultra</th>\n",
       "    </tr>\n",
       "  </thead>\n",
       "  <tbody>\n",
       "    <tr>\n",
       "      <td>0</td>\n",
       "      <td>40.0</td>\n",
       "      <td>311.90</td>\n",
       "      <td>83.0</td>\n",
       "      <td>19915.42</td>\n",
       "      <td>0</td>\n",
       "    </tr>\n",
       "    <tr>\n",
       "      <td>1</td>\n",
       "      <td>85.0</td>\n",
       "      <td>516.75</td>\n",
       "      <td>56.0</td>\n",
       "      <td>22696.96</td>\n",
       "      <td>0</td>\n",
       "    </tr>\n",
       "    <tr>\n",
       "      <td>2</td>\n",
       "      <td>77.0</td>\n",
       "      <td>467.66</td>\n",
       "      <td>86.0</td>\n",
       "      <td>21060.45</td>\n",
       "      <td>0</td>\n",
       "    </tr>\n",
       "    <tr>\n",
       "      <td>3</td>\n",
       "      <td>106.0</td>\n",
       "      <td>745.53</td>\n",
       "      <td>81.0</td>\n",
       "      <td>8437.39</td>\n",
       "      <td>1</td>\n",
       "    </tr>\n",
       "    <tr>\n",
       "      <td>4</td>\n",
       "      <td>66.0</td>\n",
       "      <td>418.74</td>\n",
       "      <td>1.0</td>\n",
       "      <td>14502.75</td>\n",
       "      <td>0</td>\n",
       "    </tr>\n",
       "    <tr>\n",
       "      <td>5</td>\n",
       "      <td>58.0</td>\n",
       "      <td>344.56</td>\n",
       "      <td>21.0</td>\n",
       "      <td>15823.37</td>\n",
       "      <td>0</td>\n",
       "    </tr>\n",
       "    <tr>\n",
       "      <td>6</td>\n",
       "      <td>57.0</td>\n",
       "      <td>431.64</td>\n",
       "      <td>20.0</td>\n",
       "      <td>3738.90</td>\n",
       "      <td>1</td>\n",
       "    </tr>\n",
       "    <tr>\n",
       "      <td>7</td>\n",
       "      <td>15.0</td>\n",
       "      <td>132.40</td>\n",
       "      <td>6.0</td>\n",
       "      <td>21911.60</td>\n",
       "      <td>0</td>\n",
       "    </tr>\n",
       "    <tr>\n",
       "      <td>8</td>\n",
       "      <td>7.0</td>\n",
       "      <td>43.39</td>\n",
       "      <td>3.0</td>\n",
       "      <td>2538.67</td>\n",
       "      <td>1</td>\n",
       "    </tr>\n",
       "    <tr>\n",
       "      <td>9</td>\n",
       "      <td>90.0</td>\n",
       "      <td>665.41</td>\n",
       "      <td>38.0</td>\n",
       "      <td>17358.61</td>\n",
       "      <td>0</td>\n",
       "    </tr>\n",
       "  </tbody>\n",
       "</table>\n",
       "</div>"
      ],
      "text/plain": [
       "   calls  minutes  messages   mb_used  is_ultra\n",
       "0   40.0   311.90      83.0  19915.42         0\n",
       "1   85.0   516.75      56.0  22696.96         0\n",
       "2   77.0   467.66      86.0  21060.45         0\n",
       "3  106.0   745.53      81.0   8437.39         1\n",
       "4   66.0   418.74       1.0  14502.75         0\n",
       "5   58.0   344.56      21.0  15823.37         0\n",
       "6   57.0   431.64      20.0   3738.90         1\n",
       "7   15.0   132.40       6.0  21911.60         0\n",
       "8    7.0    43.39       3.0   2538.67         1\n",
       "9   90.0   665.41      38.0  17358.61         0"
      ]
     },
     "execution_count": 3,
     "metadata": {},
     "output_type": "execute_result"
    }
   ],
   "source": [
    "df.head(10)"
   ]
  },
  {
   "cell_type": "code",
   "execution_count": 4,
   "metadata": {},
   "outputs": [
    {
     "name": "stdout",
     "output_type": "stream",
     "text": [
      "<class 'pandas.core.frame.DataFrame'>\n",
      "RangeIndex: 3214 entries, 0 to 3213\n",
      "Data columns (total 5 columns):\n",
      "calls       3214 non-null float64\n",
      "minutes     3214 non-null float64\n",
      "messages    3214 non-null float64\n",
      "mb_used     3214 non-null float64\n",
      "is_ultra    3214 non-null int64\n",
      "dtypes: float64(4), int64(1)\n",
      "memory usage: 125.7 KB\n"
     ]
    }
   ],
   "source": [
    "df.info()"
   ]
  },
  {
   "cell_type": "markdown",
   "metadata": {},
   "source": [
    "Каждый объект в наборе данных — это информация о поведении одного пользователя за месяц. Известно:\n",
    "* сalls — количество звонков,\n",
    "* minutes — суммарная длительность звонков в минутах,\n",
    "* messages — количество sms-сообщений,\n",
    "* mb_used — израсходованный интернет-трафик в Мб,\n",
    "* is_ultra — каким тарифом пользовался в течение месяца («Ультра» — 1, «Смарт» — 0)."
   ]
  },
  {
   "cell_type": "markdown",
   "metadata": {},
   "source": [
    "## Разбейте данные на выборки"
   ]
  },
  {
   "cell_type": "markdown",
   "metadata": {},
   "source": [
    "Наши данные разобьём на обучающую, валидационную и тестовую выборки в соотношении: 6/2/2."
   ]
  },
  {
   "cell_type": "code",
   "execution_count": 5,
   "metadata": {},
   "outputs": [],
   "source": [
    "# отделяем обучающую выборку\n",
    "df_train, df_temporary = train_test_split(df, test_size=0.4, random_state=12345)"
   ]
  },
  {
   "cell_type": "code",
   "execution_count": 6,
   "metadata": {},
   "outputs": [],
   "source": [
    "# разделим тестовую и валидационную выборки\n",
    "df_test, df_valid = train_test_split(df_temporary, test_size=0.5, random_state=12345)"
   ]
  },
  {
   "cell_type": "code",
   "execution_count": 7,
   "metadata": {},
   "outputs": [
    {
     "name": "stdout",
     "output_type": "stream",
     "text": [
      "Длина наших выборок в % от общего количества данных\n",
      "Обучающей: 60%, валидационной: 20%, тестовой: 20%\n"
     ]
    }
   ],
   "source": [
    "# проверим размер наших выборок\n",
    "print('Длина наших выборок в % от общего количества данных')\n",
    "print(f'Обучающей: {len(df_train) / len(df):.0%}, валидационной: {len(df_valid) / len(df):.0%}, тестовой: {len(df_test) / len(df):.0%}')"
   ]
  },
  {
   "cell_type": "markdown",
   "metadata": {},
   "source": [
    "Теперь наши выборки готовы. Прежде чем переходить к обучению, разделим целевой признак наших данных от остальных."
   ]
  },
  {
   "cell_type": "code",
   "execution_count": 8,
   "metadata": {},
   "outputs": [],
   "source": [
    "features_train = df_train.drop('is_ultra', axis = 1)\n",
    "target_train = df_train['is_ultra']\n",
    "\n",
    "features_valid = df_valid.drop('is_ultra', axis = 1)\n",
    "target_valid = df_valid['is_ultra']\n",
    "\n",
    "features_test = df_test.drop('is_ultra', axis = 1)\n",
    "target_test = df_test['is_ultra']"
   ]
  },
  {
   "cell_type": "markdown",
   "metadata": {},
   "source": [
    "## Исследуйте модели"
   ]
  },
  {
   "cell_type": "markdown",
   "metadata": {},
   "source": [
    "В этом разделе исследуем качество разных моделей. Будем менять значения гиперпараметров и смотреть, как меняется количество правильных ответов."
   ]
  },
  {
   "cell_type": "markdown",
   "metadata": {},
   "source": [
    "Для начала обучим модель, не указав ни одного гиперпараметра и посмотрим на количество правильных ответов."
   ]
  },
  {
   "cell_type": "code",
   "execution_count": 9,
   "metadata": {},
   "outputs": [],
   "source": [
    "model = DecisionTreeClassifier()"
   ]
  },
  {
   "cell_type": "code",
   "execution_count": 10,
   "metadata": {},
   "outputs": [
    {
     "data": {
      "text/plain": [
       "DecisionTreeClassifier(class_weight=None, criterion='gini', max_depth=None,\n",
       "                       max_features=None, max_leaf_nodes=None,\n",
       "                       min_impurity_decrease=0.0, min_impurity_split=None,\n",
       "                       min_samples_leaf=1, min_samples_split=2,\n",
       "                       min_weight_fraction_leaf=0.0, presort=False,\n",
       "                       random_state=None, splitter='best')"
      ]
     },
     "execution_count": 10,
     "metadata": {},
     "output_type": "execute_result"
    }
   ],
   "source": [
    "# обучаем нашу модель\n",
    "model.fit(features_train, target_train)"
   ]
  },
  {
   "cell_type": "code",
   "execution_count": 11,
   "metadata": {},
   "outputs": [
    {
     "data": {
      "text/plain": [
       "0.7325038880248833"
      ]
     },
     "execution_count": 11,
     "metadata": {},
     "output_type": "execute_result"
    }
   ],
   "source": [
    "# рассчитаем значение Accuracy\n",
    "accuracy_score(target_valid, model.predict(features_valid))"
   ]
  },
  {
   "cell_type": "markdown",
   "metadata": {},
   "source": [
    "73% правильных ответов. Давайте попробуем улучшить этот результат. Будем менять значение гиперпараметра 'max_depth' (глубина дерева) и смотреть, модель с каким значением выдает лучший результат. Переберать значения будем от 1 до 10."
   ]
  },
  {
   "cell_type": "code",
   "execution_count": 12,
   "metadata": {},
   "outputs": [
    {
     "name": "stdout",
     "output_type": "stream",
     "text": [
      "Лучший показатель Accuracy: 0.78 принадлежит модели со значением \"max_depth\": 10\n"
     ]
    }
   ],
   "source": [
    "best_result = 0\n",
    "best_model = None\n",
    "best_depth = 0\n",
    "for depth in range(1, 11):\n",
    "    model_depth = DecisionTreeClassifier(random_state=23567, max_depth=depth)\n",
    "    model_depth.fit(features_train, target_train)\n",
    "    result = accuracy_score(target_valid, model_depth.predict(features_valid))\n",
    "    if result > best_result:\n",
    "        best_results = result\n",
    "        best_depth = depth\n",
    "print(f'Лучший показатель Accuracy: {best_results:.2f} принадлежит модели со значением \"max_depth\": {best_depth}')"
   ]
  },
  {
   "cell_type": "markdown",
   "metadata": {},
   "source": [
    "Это ужа лучше, 78% правильных ответов. Но можно ли лучше? Чтобы узнать это проверим другую модель машинного обучения 'RandomForestClassifier', у которой будем менять гиперпараметр 'n_estimators', который отвечает за количество созданных деревьев. Перебирать значения будем от 1 до 10."
   ]
  },
  {
   "cell_type": "code",
   "execution_count": 13,
   "metadata": {},
   "outputs": [
    {
     "name": "stdout",
     "output_type": "stream",
     "text": [
      "Лучший показатель Accuracy: 0.79 принадлежит модели со значением \"n_estimators\": 10\n"
     ]
    }
   ],
   "source": [
    "best_result = 0\n",
    "best_model = None\n",
    "best_depth = 0\n",
    "for est in range(1,11):\n",
    "    model_tree = RandomForestClassifier(random_state=23567, n_estimators=est)\n",
    "    model_tree.fit(features_train, target_train)\n",
    "    result = model_tree.score(features_valid, target_valid)\n",
    "    if result > best_result:\n",
    "        best_result = result\n",
    "        best_est = est\n",
    "print(f'Лучший показатель Accuracy: {best_result:.2f} принадлежит модели со значением \"n_estimators\": {best_est}')"
   ]
  },
  {
   "cell_type": "markdown",
   "metadata": {},
   "source": [
    "Ещё 1%, класс. Похоже, мы двигаемся в правильном направлении. Теперь давайте проверим третий тип модели машинного обучения логистическую регрессию."
   ]
  },
  {
   "cell_type": "code",
   "execution_count": 14,
   "metadata": {},
   "outputs": [
    {
     "name": "stderr",
     "output_type": "stream",
     "text": [
      "/opt/conda/lib/python3.7/site-packages/sklearn/linear_model/logistic.py:432: FutureWarning: Default solver will be changed to 'lbfgs' in 0.22. Specify a solver to silence this warning.\n",
      "  FutureWarning)\n"
     ]
    },
    {
     "data": {
      "text/plain": [
       "0.7402799377916018"
      ]
     },
     "execution_count": 14,
     "metadata": {},
     "output_type": "execute_result"
    }
   ],
   "source": [
    "model = LogisticRegression(random_state=12345)\n",
    "model.fit(features_train, target_train)\n",
    "model.score(features_valid, target_valid)"
   ]
  },
  {
   "cell_type": "markdown",
   "metadata": {},
   "source": [
    "### Вывод\n",
    "\n",
    "Мы проверили 3 разные модели машинного обучения. Создавая модели, меняли гиперпараметры внутри. Выяснили, что лучше всего предсказывает значение тарифа модель машинного обучения типа случайного леса с количеством деревьев равным 10. Теперь давайте проверим эту модель на нашей тестовой выборке."
   ]
  },
  {
   "cell_type": "markdown",
   "metadata": {},
   "source": [
    "## Проверьте модель на тестовой выборке"
   ]
  },
  {
   "cell_type": "code",
   "execution_count": 15,
   "metadata": {},
   "outputs": [
    {
     "data": {
      "text/plain": [
       "0.7713841368584758"
      ]
     },
     "execution_count": 15,
     "metadata": {},
     "output_type": "execute_result"
    }
   ],
   "source": [
    "model = RandomForestClassifier(random_state=23567, n_estimators=10)\n",
    "model.fit(features_train, target_train)\n",
    "accuracy_score(target_test, model.predict(features_test))"
   ]
  },
  {
   "cell_type": "markdown",
   "metadata": {},
   "source": [
    "### Вывод\n",
    "\n",
    "Проверили нашу модель на тестовой выборке. Значение 'Accuracy' равно 0.77. Это показывает, что наше исследование мы провели не зря. В итоге самая лучшая модель для наших данных оказалась модель типа 'RandomForestClassifier' с количеством деревьев равным 10."
   ]
  },
  {
   "cell_type": "markdown",
   "metadata": {},
   "source": [
    "## (бонус) Проверьте модели на адекватность"
   ]
  },
  {
   "cell_type": "markdown",
   "metadata": {},
   "source": [
    "Для того, чтобы проверить нашу модель на вменяемость воспользуемся классификатором DummyClassifier,который делает прогнозы, используя простые правила."
   ]
  },
  {
   "cell_type": "code",
   "execution_count": 16,
   "metadata": {},
   "outputs": [
    {
     "data": {
      "text/plain": [
       "0.7060653188180405"
      ]
     },
     "execution_count": 16,
     "metadata": {},
     "output_type": "execute_result"
    }
   ],
   "source": [
    "dummy = DummyClassifier(strategy=\"most_frequent\").fit(features_train, target_train)\n",
    "accuracy_score(target_test, dummy.predict(features_test))"
   ]
  },
  {
   "cell_type": "markdown",
   "metadata": {},
   "source": [
    "Видно, что значение 'Accuracy' в нашей модели больше, чем в модели, которая использует классиыикатор DummyClassifier. Значит можно сделать вывод, что нашу работу мы проделали не зря."
   ]
  }
 ],
 "metadata": {
  "ExecuteTimeLog": [
   {
    "duration": 782,
    "start_time": "2021-10-02T16:20:54.693Z"
   },
   {
    "duration": 24,
    "start_time": "2021-10-02T16:21:21.329Z"
   },
   {
    "duration": 3,
    "start_time": "2021-10-02T16:21:55.616Z"
   },
   {
    "duration": 21,
    "start_time": "2021-10-02T16:21:55.930Z"
   },
   {
    "duration": 164,
    "start_time": "2021-10-02T16:22:14.708Z"
   },
   {
    "duration": 23,
    "start_time": "2021-10-02T16:22:29.986Z"
   },
   {
    "duration": 9,
    "start_time": "2021-10-02T16:22:42.187Z"
   },
   {
    "duration": 601,
    "start_time": "2021-10-02T16:26:56.287Z"
   },
   {
    "duration": 7,
    "start_time": "2021-10-02T16:30:35.111Z"
   },
   {
    "duration": 4,
    "start_time": "2021-10-02T16:30:56.007Z"
   },
   {
    "duration": 5,
    "start_time": "2021-10-02T16:31:15.905Z"
   },
   {
    "duration": 7,
    "start_time": "2021-10-02T16:34:01.072Z"
   },
   {
    "duration": 8,
    "start_time": "2021-10-02T16:38:46.580Z"
   },
   {
    "duration": 55,
    "start_time": "2021-10-02T16:42:14.925Z"
   },
   {
    "duration": 4,
    "start_time": "2021-10-02T17:45:45.247Z"
   },
   {
    "duration": 25,
    "start_time": "2021-10-02T17:46:18.156Z"
   },
   {
    "duration": 17,
    "start_time": "2021-10-02T17:46:46.205Z"
   },
   {
    "duration": 484,
    "start_time": "2021-10-02T17:46:51.989Z"
   },
   {
    "duration": 17,
    "start_time": "2021-10-02T17:46:56.645Z"
   },
   {
    "duration": 17,
    "start_time": "2021-10-02T17:47:01.367Z"
   },
   {
    "duration": 5,
    "start_time": "2021-10-02T17:47:37.920Z"
   },
   {
    "duration": 7,
    "start_time": "2021-10-02T17:48:30.072Z"
   },
   {
    "duration": 35,
    "start_time": "2021-10-02T17:59:37.089Z"
   },
   {
    "duration": 68,
    "start_time": "2021-10-02T17:59:43.542Z"
   },
   {
    "duration": 34,
    "start_time": "2021-10-02T17:59:50.819Z"
   },
   {
    "duration": 77,
    "start_time": "2021-10-02T17:59:53.771Z"
   },
   {
    "duration": 81,
    "start_time": "2021-10-02T18:00:00.428Z"
   },
   {
    "duration": 13,
    "start_time": "2021-10-02T18:02:11.160Z"
   },
   {
    "duration": 116,
    "start_time": "2021-10-02T18:09:57.010Z"
   },
   {
    "duration": 345,
    "start_time": "2021-10-02T18:10:05.100Z"
   },
   {
    "duration": 326,
    "start_time": "2021-10-02T18:10:48.038Z"
   },
   {
    "duration": 103,
    "start_time": "2021-10-02T18:11:11.503Z"
   },
   {
    "duration": 13,
    "start_time": "2021-10-02T18:11:21.372Z"
   },
   {
    "duration": 17,
    "start_time": "2021-10-02T18:11:29.245Z"
   },
   {
    "duration": 323,
    "start_time": "2021-10-02T18:11:46.267Z"
   },
   {
    "duration": 330,
    "start_time": "2021-10-02T18:12:15.161Z"
   },
   {
    "duration": 38,
    "start_time": "2021-10-02T18:12:20.285Z"
   },
   {
    "duration": 41,
    "start_time": "2021-10-02T18:12:23.734Z"
   },
   {
    "duration": 57,
    "start_time": "2021-10-02T18:12:29.797Z"
   },
   {
    "duration": 276,
    "start_time": "2021-10-02T18:12:36.110Z"
   },
   {
    "duration": 349,
    "start_time": "2021-10-02T18:13:16.613Z"
   },
   {
    "duration": 341,
    "start_time": "2021-10-02T18:13:25.164Z"
   },
   {
    "duration": 6881,
    "start_time": "2021-10-02T18:14:04.403Z"
   },
   {
    "duration": 343,
    "start_time": "2021-10-02T18:16:09.595Z"
   },
   {
    "duration": 342,
    "start_time": "2021-10-02T18:16:11.274Z"
   },
   {
    "duration": 144,
    "start_time": "2021-10-02T18:16:12.437Z"
   },
   {
    "duration": 324,
    "start_time": "2021-10-02T18:16:14.686Z"
   },
   {
    "duration": 326,
    "start_time": "2021-10-02T18:16:16.648Z"
   },
   {
    "duration": 335,
    "start_time": "2021-10-02T18:16:31.121Z"
   },
   {
    "duration": 350,
    "start_time": "2021-10-02T18:17:02.231Z"
   },
   {
    "duration": 2840,
    "start_time": "2021-10-02T18:17:10.396Z"
   },
   {
    "duration": 353,
    "start_time": "2021-10-02T18:17:18.370Z"
   },
   {
    "duration": 367,
    "start_time": "2021-10-02T18:17:48.638Z"
   },
   {
    "duration": 83,
    "start_time": "2021-10-02T18:17:57.703Z"
   },
   {
    "duration": 4,
    "start_time": "2021-10-02T18:18:48.186Z"
   },
   {
    "duration": 27,
    "start_time": "2021-10-02T19:21:35.604Z"
   },
   {
    "duration": 8,
    "start_time": "2021-10-02T19:34:56.837Z"
   },
   {
    "duration": 314,
    "start_time": "2021-10-02T19:35:21.963Z"
   },
   {
    "duration": 322,
    "start_time": "2021-10-02T19:35:26.772Z"
   },
   {
    "duration": 533,
    "start_time": "2021-10-02T19:35:43.011Z"
   },
   {
    "duration": 18,
    "start_time": "2021-10-02T19:35:49.456Z"
   },
   {
    "duration": 1381,
    "start_time": "2021-10-04T12:27:11.364Z"
   },
   {
    "duration": 22,
    "start_time": "2021-10-04T12:27:12.748Z"
   },
   {
    "duration": 24,
    "start_time": "2021-10-04T12:27:12.773Z"
   },
   {
    "duration": 25,
    "start_time": "2021-10-04T12:27:12.800Z"
   },
   {
    "duration": 15,
    "start_time": "2021-10-04T12:27:12.827Z"
   },
   {
    "duration": 24,
    "start_time": "2021-10-04T12:27:12.844Z"
   },
   {
    "duration": 27,
    "start_time": "2021-10-04T12:27:12.871Z"
   },
   {
    "duration": 36,
    "start_time": "2021-10-04T12:27:12.902Z"
   },
   {
    "duration": 37,
    "start_time": "2021-10-04T12:27:12.941Z"
   },
   {
    "duration": 9,
    "start_time": "2021-10-04T12:27:12.981Z"
   },
   {
    "duration": 113,
    "start_time": "2021-10-04T12:27:12.993Z"
   },
   {
    "duration": 346,
    "start_time": "2021-10-04T12:27:13.109Z"
   },
   {
    "duration": 28,
    "start_time": "2021-10-04T12:27:13.458Z"
   },
   {
    "duration": 37,
    "start_time": "2021-10-04T12:27:13.488Z"
   },
   {
    "duration": 64,
    "start_time": "2021-10-04T12:29:29.396Z"
   },
   {
    "duration": 64,
    "start_time": "2021-10-04T12:29:34.747Z"
   },
   {
    "duration": 455,
    "start_time": "2021-10-04T18:11:15.091Z"
   },
   {
    "duration": 1034,
    "start_time": "2021-10-05T16:38:10.080Z"
   },
   {
    "duration": 19,
    "start_time": "2021-10-05T16:38:11.115Z"
   },
   {
    "duration": 16,
    "start_time": "2021-10-05T16:38:11.136Z"
   },
   {
    "duration": 7,
    "start_time": "2021-10-05T16:38:11.154Z"
   },
   {
    "duration": 6,
    "start_time": "2021-10-05T16:38:11.163Z"
   },
   {
    "duration": 4,
    "start_time": "2021-10-05T16:38:11.171Z"
   },
   {
    "duration": 23,
    "start_time": "2021-10-05T16:38:11.177Z"
   },
   {
    "duration": 4,
    "start_time": "2021-10-05T16:38:11.202Z"
   },
   {
    "duration": 17,
    "start_time": "2021-10-05T16:38:11.207Z"
   },
   {
    "duration": 5,
    "start_time": "2021-10-05T16:38:11.226Z"
   },
   {
    "duration": 77,
    "start_time": "2021-10-05T16:38:11.233Z"
   },
   {
    "duration": 223,
    "start_time": "2021-10-05T16:38:11.312Z"
   },
   {
    "duration": 14,
    "start_time": "2021-10-05T16:38:11.537Z"
   },
   {
    "duration": 57,
    "start_time": "2021-10-05T16:38:11.553Z"
   },
   {
    "duration": 4,
    "start_time": "2021-10-05T16:41:59.715Z"
   },
   {
    "duration": 6,
    "start_time": "2021-10-05T16:45:44.997Z"
   },
   {
    "duration": 6,
    "start_time": "2021-10-05T16:45:51.048Z"
   },
   {
    "duration": 5,
    "start_time": "2021-10-05T16:45:52.730Z"
   },
   {
    "duration": 210,
    "start_time": "2021-10-05T16:50:18.436Z"
   },
   {
    "duration": 4,
    "start_time": "2021-10-05T16:50:22.848Z"
   },
   {
    "duration": 4,
    "start_time": "2021-10-05T16:51:07.198Z"
   },
   {
    "duration": 134,
    "start_time": "2021-10-05T16:51:22.940Z"
   },
   {
    "duration": 3,
    "start_time": "2021-10-05T16:51:27.494Z"
   },
   {
    "duration": 4,
    "start_time": "2021-10-05T16:51:33.355Z"
   },
   {
    "duration": 4,
    "start_time": "2021-10-05T16:51:37.832Z"
   },
   {
    "duration": 3,
    "start_time": "2021-10-05T16:51:54.652Z"
   },
   {
    "duration": 4,
    "start_time": "2021-10-05T16:52:29.593Z"
   },
   {
    "duration": 1894,
    "start_time": "2021-10-05T16:52:51.392Z"
   },
   {
    "duration": 19,
    "start_time": "2021-10-05T16:52:53.288Z"
   },
   {
    "duration": 15,
    "start_time": "2021-10-05T16:52:53.311Z"
   },
   {
    "duration": 6,
    "start_time": "2021-10-05T16:52:53.328Z"
   },
   {
    "duration": 6,
    "start_time": "2021-10-05T16:52:53.335Z"
   },
   {
    "duration": 5,
    "start_time": "2021-10-05T16:52:53.343Z"
   },
   {
    "duration": 6,
    "start_time": "2021-10-05T16:52:53.350Z"
   },
   {
    "duration": 5,
    "start_time": "2021-10-05T16:52:53.358Z"
   },
   {
    "duration": 5,
    "start_time": "2021-10-05T16:52:53.365Z"
   },
   {
    "duration": 13,
    "start_time": "2021-10-05T16:52:53.399Z"
   },
   {
    "duration": 4,
    "start_time": "2021-10-05T16:52:53.414Z"
   },
   {
    "duration": 49,
    "start_time": "2021-10-05T16:52:53.420Z"
   },
   {
    "duration": 248,
    "start_time": "2021-10-05T16:52:53.471Z"
   },
   {
    "duration": 14,
    "start_time": "2021-10-05T16:52:53.721Z"
   },
   {
    "duration": 42,
    "start_time": "2021-10-05T16:52:53.737Z"
   },
   {
    "duration": 5,
    "start_time": "2021-10-05T16:52:53.800Z"
   },
   {
    "duration": 961,
    "start_time": "2021-10-05T16:55:33.569Z"
   },
   {
    "duration": 21,
    "start_time": "2021-10-05T16:55:34.532Z"
   },
   {
    "duration": 17,
    "start_time": "2021-10-05T16:55:34.555Z"
   },
   {
    "duration": 7,
    "start_time": "2021-10-05T16:55:34.574Z"
   },
   {
    "duration": 18,
    "start_time": "2021-10-05T16:55:34.583Z"
   },
   {
    "duration": 6,
    "start_time": "2021-10-05T16:55:34.603Z"
   },
   {
    "duration": 6,
    "start_time": "2021-10-05T16:55:34.611Z"
   },
   {
    "duration": 7,
    "start_time": "2021-10-05T16:55:34.620Z"
   },
   {
    "duration": 9,
    "start_time": "2021-10-05T16:55:34.628Z"
   },
   {
    "duration": 15,
    "start_time": "2021-10-05T16:55:34.638Z"
   },
   {
    "duration": 6,
    "start_time": "2021-10-05T16:55:34.655Z"
   },
   {
    "duration": 85,
    "start_time": "2021-10-05T16:55:34.662Z"
   },
   {
    "duration": 226,
    "start_time": "2021-10-05T16:55:34.749Z"
   },
   {
    "duration": 23,
    "start_time": "2021-10-05T16:55:34.977Z"
   },
   {
    "duration": 45,
    "start_time": "2021-10-05T16:55:35.001Z"
   },
   {
    "duration": 6,
    "start_time": "2021-10-05T16:55:35.048Z"
   }
  ],
  "kernelspec": {
   "display_name": "Python 3 (ipykernel)",
   "language": "python",
   "name": "python3"
  },
  "language_info": {
   "codemirror_mode": {
    "name": "ipython",
    "version": 3
   },
   "file_extension": ".py",
   "mimetype": "text/x-python",
   "name": "python",
   "nbconvert_exporter": "python",
   "pygments_lexer": "ipython3",
   "version": "3.8.8"
  },
  "toc": {
   "base_numbering": 1,
   "nav_menu": {},
   "number_sections": true,
   "sideBar": true,
   "skip_h1_title": true,
   "title_cell": "Table of Contents",
   "title_sidebar": "Contents",
   "toc_cell": false,
   "toc_position": {},
   "toc_section_display": true,
   "toc_window_display": false
  }
 },
 "nbformat": 4,
 "nbformat_minor": 2
}
